{
 "cells": [
  {
   "cell_type": "code",
   "source": [
    "# The output of this cell should be committed to the repo such that the styles are applied after opening the notebook\n",
    "\n",
    "from IPython.core.display import HTML\n",
    "\n",
    "with open(\"rise.css\", \"r\") as f:\n",
    "    styles = f.read()\n",
    "HTML(f'<style>{styles}</style>')"
   ],
   "metadata": {
    "collapsed": false
   },
   "execution_count": null,
   "outputs": []
  },
  {
   "cell_type": "markdown",
   "metadata": {
    "slideshow": {
     "slide_type": "slide"
    }
   },
   "source": [
    "<img src=\"images/aai_presentation_first_slide.svg\" alt=\"Snow\" style=\"width:100%;\">\n",
    "<div class=\"md-slide title\">Intro Reinforcement Learning</div>\n",
    "<div class=\"md-slide title\">You can put multiple divs</div>\n",
    "<div class=\"md-slide title\">Unfortunately, no way to make it full screen...</div>\n",
    "<div class=\"md-slide title\">We can also just remove it</div>"
   ]
  },
  {
   "cell_type": "markdown",
   "metadata": {
    "collapsed": true,
    "slideshow": {
     "slide_type": "slide"
    }
   },
   "source": [
    "# Template for Rise-based presentations\n",
    "\n",
    "This presentation is created with rise. We customize slides with header, footer and backimage as\n",
    "described [here](https://rise.readthedocs.io/en/stable/customize.html).\n",
    "\n",
    "Styles are given in the [rise.css](rise.css) file."
   ]
  },
  {
   "cell_type": "markdown",
   "metadata": {
    "slideshow": {
     "slide_type": "slide"
    }
   },
   "source": [
    "Here a slide that contains some code as fragment."
   ]
  },
  {
   "cell_type": "code",
   "execution_count": null,
   "metadata": {
    "slideshow": {
     "slide_type": "fragment"
    }
   },
   "outputs": [],
   "source": [
    "# The code in src should be installed in your environment. In the docker image this will already be the case.\n",
    "# Thus, imports should work without problems\n",
    "\n",
    "from intro_rl.sample_module import SampleClass\n",
    "\n",
    "SampleClass().sample_method(\"from a notebook!\")"
   ]
  },
  {
   "cell_type": "markdown",
   "source": [
    "## Data and expensive computations\n",
    "\n",
    "We will often have expensive computations or loading of large datasets as part of the training.\n",
    "In order for the notebook to be testable, we should provide alternatives for them,\n",
    "such that all notebooks can be easily\n",
    "executed in CI (or in local testing/debugging). This can be done by using env variables\n",
    "and parametrizing data set loading and computations as shown below."
   ],
   "metadata": {
    "collapsed": false
   }
  },
  {
   "cell_type": "code",
   "execution_count": null,
   "outputs": [],
   "source": [
    "import os\n",
    "\n",
    "# Note: for local testing you can set this to true manually\n",
    "USE_REDUCED_COMPUTE_AND_DATA = os.getenv(\"CI\") == \"true\"\n",
    "\n",
    "# For\n",
    "if USE_REDUCED_COMPUTE_AND_DATA:\n",
    "    n_steps = 5\n",
    "    url = \"https://my-small-dataset.com\"\n",
    "else:\n",
    "    n_steps = 500\n",
    "    url = \"https://real-large-dataset.com\""
   ],
   "metadata": {
    "collapsed": false
   }
  },
  {
   "cell_type": "code",
   "execution_count": null,
   "outputs": [],
   "source": [
    "def load_data(url: str):\n",
    "    print(f\"Downloading from: {url=}\")\n",
    "\n",
    "def perform_computation(n_steps: int):\n",
    "    print(f\"Computing with {n_steps=}\")"
   ],
   "metadata": {
    "collapsed": false,
    "pycharm": {
     "is_executing": true
    }
   }
  },
  {
   "cell_type": "code",
   "execution_count": null,
   "outputs": [],
   "source": [
    "load_data(url)\n",
    "perform_computation(n_steps)"
   ],
   "metadata": {
    "collapsed": false
   }
  },
  {
   "cell_type": "markdown",
   "metadata": {
    "slideshow": {
     "slide_type": "slide"
    }
   },
   "source": [
    "<img src=\"images/aai_presentation_last_slide.svg\" alt=\"Snow\" style=\"width:100%;\">\n",
    "<div class=\"md-slide title\">Thank you for the attention! (last slide)</div>\n",
    "<div class=\"md-slide title\">Again, no full screen</div>\n",
    "<div class=\"md-slide title\">We could remove it</div>"
   ]
  }
 ],
 "metadata": {
  "celltoolbar": "Slideshow",
  "kernelspec": {
   "display_name": "Python 3 (ipykernel)",
   "language": "python",
   "name": "python3"
  },
  "language_info": {
   "codemirror_mode": {
    "name": "ipython",
    "version": 3
   },
   "file_extension": ".py",
   "mimetype": "text/x-python",
   "name": "python",
   "nbconvert_exporter": "python",
   "pygments_lexer": "ipython3",
   "version": "3.8.11"
  },
  "rise": {
   "footer": "<img src='images/aai-logo.png' alt='logo' height='50em'>",
   "header": "<img src='images/transferlab-logo.svg' alt='logo' height='20em' />",
   "theme": "white"
  }
 },
 "nbformat": 4,
 "nbformat_minor": 1
}
