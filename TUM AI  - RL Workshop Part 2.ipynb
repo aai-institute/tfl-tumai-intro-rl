{
 "nbformat": 4,
 "nbformat_minor": 0,
 "metadata": {
  "colab": {
   "provenance": [],
   "toc_visible": true,
   "authorship_tag": "ABX9TyMaDys1hECmzaKksexyIm86"
  },
  "kernelspec": {
   "name": "python3",
   "display_name": "Python 3"
  },
  "language_info": {
   "name": "python"
  },
  "accelerator": "GPU",
  "gpuClass": "standard"
 },
 "cells": [
  {
   "cell_type": "code",
   "execution_count": null,
   "metadata": {
    "colab": {
     "base_uri": "https://localhost:8080/"
    },
    "id": "k5qISAAUVhiS",
    "executionInfo": {
     "status": "ok",
     "timestamp": 1669819070906,
     "user_tz": -60,
     "elapsed": 33539,
     "user": {
      "displayName": "Michael Panchenko",
      "userId": "14080498795968418113"
     }
    },
    "outputId": "9dd32038-8427-4ce1-a817-c09050efc48e"
   },
   "outputs": [],
   "source": [
    "pip install gymnasium[classic_control] ray[rllib] mediapy gputil"
   ]
  },
  {
   "cell_type": "code",
   "source": [
    "import numpy as np\n",
    "import ray\n",
    "from ray import tune\n",
    "import gymnasium\n",
    "from mediapy import show_video\n"
   ],
   "metadata": {
    "id": "upwADd8kzVcy"
   },
   "execution_count": null,
   "outputs": []
  },
  {
   "cell_type": "code",
   "source": [
    "env = gymnasium.make('MountainCarContinuous-v0', render_mode=\"rgb_array_list\")\n",
    "env.reset()\n",
    "rewards = []\n",
    "for _ in range(500):\n",
    "    action = env.action_space.high\n",
    "    obs, reward, _, _, _ = env.step(action)\n",
    "    rewards.append(reward)\n",
    "frames = env.render()"
   ],
   "metadata": {
    "id": "JWD88F_VXzpn"
   },
   "execution_count": null,
   "outputs": []
  },
  {
   "cell_type": "code",
   "source": [
    "show_video(frames)"
   ],
   "metadata": {
    "colab": {
     "base_uri": "https://localhost:8080/",
     "height": 423
    },
    "id": "D8fmeIF7Yg0d",
    "executionInfo": {
     "status": "ok",
     "timestamp": 1669783703540,
     "user_tz": -60,
     "elapsed": 3064,
     "user": {
      "displayName": "Michael Panchenko",
      "userId": "14080498795968418113"
     }
    },
    "outputId": "498da9c0-6804-4159-911d-2396cf2c7ced"
   },
   "execution_count": null,
   "outputs": []
  },
  {
   "cell_type": "code",
   "source": [
    "env, env.spec"
   ],
   "metadata": {
    "colab": {
     "base_uri": "https://localhost:8080/"
    },
    "id": "syWM11tIcgCr",
    "executionInfo": {
     "status": "ok",
     "timestamp": 1669783703541,
     "user_tz": -60,
     "elapsed": 15,
     "user": {
      "displayName": "Michael Panchenko",
      "userId": "14080498795968418113"
     }
    },
    "outputId": "db696e29-c627-4e04-85c3-d558d959f784"
   },
   "execution_count": null,
   "outputs": []
  },
  {
   "cell_type": "code",
   "source": [
    "import ray\n",
    "import gym\n",
    "import ray.rllib.algorithms.ppo as ppo\n",
    "from ray.tune.logger import pretty_print\n",
    "from ray.tune.registry import register_env\n",
    "# from gymnasium.wrappers import StepAPICompatibility\n",
    "from gym.spaces import Box as GymBox\n",
    "# from gymnasium.spaces import Box\n",
    "from ray import tune\n",
    "import torch\n",
    "import os\n"
   ],
   "metadata": {
    "colab": {
     "base_uri": "https://localhost:8080/",
     "height": 79
    },
    "id": "SrwzNwORpuur",
    "executionInfo": {
     "status": "ok",
     "timestamp": 1669783708264,
     "user_tz": -60,
     "elapsed": 4731,
     "user": {
      "displayName": "Michael Panchenko",
      "userId": "14080498795968418113"
     }
    },
    "outputId": "787aee9e-e5a6-4c17-80be-3757345643f2"
   },
   "execution_count": null,
   "outputs": []
  },
  {
   "cell_type": "code",
   "source": [
    "\n",
    "ray.init()"
   ],
   "metadata": {
    "id": "3ZK1427u92bi"
   },
   "execution_count": null,
   "outputs": []
  },
  {
   "cell_type": "code",
   "source": [
    "\n",
    "def make_env(*args):\n",
    "  print(f\"Context is: {args}\")\n",
    "  return gym.make('MountainCarContinuous-v0')\n",
    "  # return StepAPICompatibility(gym.make('MountainCarContinuous-v0'))\n",
    "\n",
    "\n",
    "# def to_gym_box(b: Box):\n",
    "#   return GymBox(b.low, b.high, b.shape, dtype=b.dtype)\n",
    "\n",
    "register_env(\"custom_env\", make_env)\n",
    "\n",
    "\n",
    "config = ppo.DEFAULT_CONFIG.copy()\n",
    "config[\"framework\"] = \"torch\"\n",
    "config[\"num_gpus\"] = torch.cuda.device_count()\n",
    "# we need one master\n",
    "config[\"num_workers\"] = 0\n",
    "config[\"env\"] = \"custom_env\"\n",
    "# A HACK! In fact, this prevents rllib from working with gymnasium\n",
    "# see line 2065 in rllib.evaluation.rollout_worker\n",
    "# env = make_env()\n",
    "# config[\"observation_space\"] = to_gym_box(env.observation_space)\n",
    "# config[\"action_space\"] = to_gym_box(env.action_space)\n",
    "# config[\"disable_env_checking\"] = True"
   ],
   "metadata": {
    "id": "8iaL6gJ6eUaG"
   },
   "execution_count": null,
   "outputs": []
  },
  {
   "cell_type": "code",
   "source": [
    "\n",
    "tune_config = {\n",
    "    \"config\": config,\n",
    "    \"stop\": {\"training_iteration\": 2},\n",
    "}"
   ],
   "metadata": {
    "id": "L9755cvGkJVo"
   },
   "execution_count": null,
   "outputs": []
  },
  {
   "cell_type": "code",
   "source": [
    "tune.run(\n",
    "    ppo.PPO, **tune_config\n",
    ")"
   ],
   "metadata": {
    "colab": {
     "base_uri": "https://localhost:8080/",
     "height": 455
    },
    "id": "xFMGO3s-thMx",
    "executionInfo": {
     "status": "ok",
     "timestamp": 1669783769162,
     "user_tz": -60,
     "elapsed": 53572,
     "user": {
      "displayName": "Michael Panchenko",
      "userId": "14080498795968418113"
     }
    },
    "outputId": "596ce89c-0899-4440-ac4f-2d7e9827416b"
   },
   "execution_count": null,
   "outputs": []
  },
  {
   "cell_type": "code",
   "source": [
    "env = make_env()"
   ],
   "metadata": {
    "colab": {
     "base_uri": "https://localhost:8080/"
    },
    "id": "XhLSB2RbtidB",
    "executionInfo": {
     "status": "ok",
     "timestamp": 1669783769163,
     "user_tz": -60,
     "elapsed": 33,
     "user": {
      "displayName": "Michael Panchenko",
      "userId": "14080498795968418113"
     }
    },
    "outputId": "4721a1af-4f8f-4e19-ba61-f29808deafd4"
   },
   "execution_count": null,
   "outputs": []
  },
  {
   "cell_type": "code",
   "source": [
    "env.observation_space.__class__"
   ],
   "metadata": {
    "colab": {
     "base_uri": "https://localhost:8080/"
    },
    "id": "SO4q-pUmz3uP",
    "executionInfo": {
     "status": "ok",
     "timestamp": 1669783769164,
     "user_tz": -60,
     "elapsed": 28,
     "user": {
      "displayName": "Michael Panchenko",
      "userId": "14080498795968418113"
     }
    },
    "outputId": "7d67c411-499c-42e0-c74a-4a41723ddcdd"
   },
   "execution_count": null,
   "outputs": []
  },
  {
   "cell_type": "code",
   "source": [
    "pip show gym"
   ],
   "metadata": {
    "colab": {
     "base_uri": "https://localhost:8080/"
    },
    "id": "3wxQ_WCpz5hv",
    "executionInfo": {
     "status": "ok",
     "timestamp": 1669783771971,
     "user_tz": -60,
     "elapsed": 2831,
     "user": {
      "displayName": "Michael Panchenko",
      "userId": "14080498795968418113"
     }
    },
    "outputId": "f0a1049c-4ae2-4369-b97b-cabb98b9646a"
   },
   "execution_count": null,
   "outputs": []
  },
  {
   "cell_type": "code",
   "source": [],
   "metadata": {
    "id": "jXX3YYC0z9ql"
   },
   "execution_count": null,
   "outputs": []
  }
 ]
}
